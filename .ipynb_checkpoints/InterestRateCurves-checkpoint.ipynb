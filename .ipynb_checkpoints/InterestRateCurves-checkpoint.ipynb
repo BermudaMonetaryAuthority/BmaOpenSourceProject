{
 "cells": [
  {
   "cell_type": "markdown",
   "metadata": {},
   "source": [
    "# ReadMe\n"
   ]
  },
  {
   "cell_type": "markdown",
   "metadata": {},
   "source": [
    "<font size=\"4\">This Notebook is a walkthrough of various QuantLib funtionalities commonly used for financial mathematics AND an algorithm to create a time zero term structure of interest satisfying virtually any implied term structure changes via spreads.\n",
    "\n",
    "this Notebook is divided into the following sections:<br><br>\n",
    "\n",
    "__Inputs,Initialization and helper functions__:Section to import libraries, upload required inputs <br>\n",
    "__Section 1.0__: an algorithm to create among other things what is known as the Bermuda Scenarios used for measuring interest rate risk. It essentially creates a time 0 term structure of interest by calibrating spreads between periods so that all implied term structure in future time periods are consistents with the required scenario. <br>\n",
    "By creating such a time 0 curve, all is required after is simply discounting along it \n",
    "<br> Section 1.1 show how to discount with the calibrated curve\n",
    "\n",
    "<br> __Section 2.0 to 7.0__: Examples of various financial mathematics applications such as creating a term structure of interest and working with its implied forward curves and discounting cash flows along a term structure of interest<br><br>"
   ]
  },
  {
   "cell_type": "markdown",
   "metadata": {},
   "source": [
    "## Inputs, Initialization and helper functions "
   ]
  },
  {
   "cell_type": "code",
   "execution_count": 52,
   "metadata": {},
   "outputs": [],
   "source": [
    "from QuantLib import *\n",
    "import QuantLib as ql\n",
    "import pandas as pd\n",
    "import numpy as np\n",
    "from copy import deepcopy\n",
    "import os \n",
    "from scipy.optimize import newton, root_scalar\n",
    "import bmaOs as bma\n",
    "import pymongo as py\n",
    "from dataclasses import dataclass"
   ]
  },
  {
   "cell_type": "code",
   "execution_count": 53,
   "metadata": {},
   "outputs": [],
   "source": [
    "path='/Users/gabounet/Quant_Finance/bma_discount2019Q1.xlsx'\n",
    "todayDate = ql.Date(30, 9, 2019)\n",
    "dfbma=pd.read_excel(path,sheet_name='test')\n",
    "dfbma['US']=dfbma['US']\n",
    "dfbma['US'].head()\n",
    "dfbma.insert(0, 'ID', range(0, len(dfbma)))\n",
    "#dfbma['Date']=TARGET().advance(todayDate,0,Years)"
   ]
  },
  {
   "cell_type": "code",
   "execution_count": 54,
   "metadata": {},
   "outputs": [],
   "source": [
    "#this connects to MongoDb which is a document database where assumptions & inputs are stored\n",
    "client=py.MongoClient('mongodb://localhost:27017/')\n",
    "dbt=client.bmaTest\n",
    "deltas=dbt.test.find_one({'bma':'scenario approach'}) #because this is a POC the schema of the documents has not been defined yet "
   ]
  },
  {
   "cell_type": "code",
   "execution_count": 55,
   "metadata": {},
   "outputs": [
    {
     "data": {
      "text/html": [
       "<div>\n",
       "<style scoped>\n",
       "    .dataframe tbody tr th:only-of-type {\n",
       "        vertical-align: middle;\n",
       "    }\n",
       "\n",
       "    .dataframe tbody tr th {\n",
       "        vertical-align: top;\n",
       "    }\n",
       "\n",
       "    .dataframe thead th {\n",
       "        text-align: right;\n",
       "    }\n",
       "</style>\n",
       "<table border=\"1\" class=\"dataframe\">\n",
       "  <thead>\n",
       "    <tr style=\"text-align: right;\">\n",
       "      <th></th>\n",
       "      <th>ID</th>\n",
       "      <th>Maturity</th>\n",
       "      <th>US</th>\n",
       "      <th>Euro</th>\n",
       "      <th>UK</th>\n",
       "      <th>Switzerland</th>\n",
       "      <th>Canada</th>\n",
       "      <th>Japan</th>\n",
       "      <th>Australia</th>\n",
       "      <th>New Zealand</th>\n",
       "      <th>Hong Kong</th>\n",
       "      <th>Unnamed: 10</th>\n",
       "    </tr>\n",
       "  </thead>\n",
       "  <tbody>\n",
       "    <tr>\n",
       "      <th>0</th>\n",
       "      <td>0</td>\n",
       "      <td>0 Year</td>\n",
       "      <td>0.000000</td>\n",
       "      <td>0.000000</td>\n",
       "      <td>0.000000</td>\n",
       "      <td>0.000000</td>\n",
       "      <td>0.000000</td>\n",
       "      <td>0.000000</td>\n",
       "      <td>0.000000</td>\n",
       "      <td>0.000000</td>\n",
       "      <td>0.000000</td>\n",
       "      <td>NaN</td>\n",
       "    </tr>\n",
       "    <tr>\n",
       "      <th>1</th>\n",
       "      <td>1</td>\n",
       "      <td>1 Year</td>\n",
       "      <td>0.024949</td>\n",
       "      <td>-0.004150</td>\n",
       "      <td>0.008589</td>\n",
       "      <td>-0.008367</td>\n",
       "      <td>0.019260</td>\n",
       "      <td>-0.001125</td>\n",
       "      <td>0.016224</td>\n",
       "      <td>0.015871</td>\n",
       "      <td>0.018065</td>\n",
       "      <td>0.023449</td>\n",
       "    </tr>\n",
       "    <tr>\n",
       "      <th>2</th>\n",
       "      <td>2</td>\n",
       "      <td>2 Years</td>\n",
       "      <td>0.023625</td>\n",
       "      <td>-0.003782</td>\n",
       "      <td>0.008867</td>\n",
       "      <td>-0.008163</td>\n",
       "      <td>0.018607</td>\n",
       "      <td>-0.001350</td>\n",
       "      <td>0.015410</td>\n",
       "      <td>0.015413</td>\n",
       "      <td>0.018651</td>\n",
       "      <td>0.020625</td>\n",
       "    </tr>\n",
       "    <tr>\n",
       "      <th>3</th>\n",
       "      <td>3</td>\n",
       "      <td>3 Years</td>\n",
       "      <td>0.022890</td>\n",
       "      <td>-0.003104</td>\n",
       "      <td>0.009352</td>\n",
       "      <td>-0.007725</td>\n",
       "      <td>0.018501</td>\n",
       "      <td>-0.001437</td>\n",
       "      <td>0.015476</td>\n",
       "      <td>0.015696</td>\n",
       "      <td>0.019001</td>\n",
       "      <td>NaN</td>\n",
       "    </tr>\n",
       "    <tr>\n",
       "      <th>4</th>\n",
       "      <td>4</td>\n",
       "      <td>4 Years</td>\n",
       "      <td>0.022692</td>\n",
       "      <td>-0.002281</td>\n",
       "      <td>0.009883</td>\n",
       "      <td>-0.006728</td>\n",
       "      <td>0.018579</td>\n",
       "      <td>-0.001387</td>\n",
       "      <td>0.016134</td>\n",
       "      <td>0.016356</td>\n",
       "      <td>0.019424</td>\n",
       "      <td>NaN</td>\n",
       "    </tr>\n",
       "  </tbody>\n",
       "</table>\n",
       "</div>"
      ],
      "text/plain": [
       "   ID Maturity        US      Euro        UK  Switzerland    Canada     Japan  \\\n",
       "0   0   0 Year  0.000000  0.000000  0.000000     0.000000  0.000000  0.000000   \n",
       "1   1   1 Year  0.024949 -0.004150  0.008589    -0.008367  0.019260 -0.001125   \n",
       "2   2  2 Years  0.023625 -0.003782  0.008867    -0.008163  0.018607 -0.001350   \n",
       "3   3  3 Years  0.022890 -0.003104  0.009352    -0.007725  0.018501 -0.001437   \n",
       "4   4  4 Years  0.022692 -0.002281  0.009883    -0.006728  0.018579 -0.001387   \n",
       "\n",
       "   Australia  New Zealand  Hong Kong  Unnamed: 10  \n",
       "0   0.000000     0.000000   0.000000          NaN  \n",
       "1   0.016224     0.015871   0.018065     0.023449  \n",
       "2   0.015410     0.015413   0.018651     0.020625  \n",
       "3   0.015476     0.015696   0.019001          NaN  \n",
       "4   0.016134     0.016356   0.019424          NaN  "
      ]
     },
     "execution_count": 55,
     "metadata": {},
     "output_type": "execute_result"
    }
   ],
   "source": [
    "dfbma.head()\n"
   ]
  },
  {
   "cell_type": "code",
   "execution_count": 56,
   "metadata": {},
   "outputs": [],
   "source": [
    "# 3 sample cashflows with an amount and a date of payment\n",
    "cf1=ql.SimpleCashFlow(1000,ql.Date(30, 9, 2020))\n",
    "cf2=ql.SimpleCashFlow(1000,ql.Date(30, 6, 2022))\n",
    "cf3=ql.SimpleCashFlow(1000,ql.Date(30, 6, 2023))\n",
    "cflist=[cf1,cf2,cf3]"
   ]
  },
  {
   "cell_type": "markdown",
   "metadata": {},
   "source": [
    "# 1.0 Creating and calibrating a term Structure with spreads"
   ]
  },
  {
   "cell_type": "code",
   "execution_count": 57,
   "metadata": {},
   "outputs": [],
   "source": [
    "dateStruct=bma.DateTimeStruct() #struct that contains defaults Date and time attributes\n",
    "intStruct=bma.IntRatesStruct() #struct that contains defaults interest rates attributes\n",
    "\n",
    "testSchedule=bma.create_schedule(dateStruct) #function to create a schedule\n",
    "\n",
    "spotValues=dfbma['US'].tolist()[0:100]\n",
    "\n",
    "spotT=bma.create_spotCurve(spotValues,testSchedule,dateStruct,intStruct) #function to create a spot curve\n",
    "\n",
    "spreadT=deltas['scen8'] #deltas for KRD stored in MongoDb\n",
    "\n",
    "myNewCurve=bma.calibrate_term_structure(spotT,spreadT,todayDate) #functioon to calibrate a term structure\n"
   ]
  },
  {
   "cell_type": "markdown",
   "metadata": {},
   "source": [
    "# 1.1 Using the curve with calibrated spread to discount cashflows"
   ]
  },
  {
   "cell_type": "code",
   "execution_count": 51,
   "metadata": {},
   "outputs": [
    {
     "data": {
      "text/plain": [
       "2838.3939656443035"
      ]
     },
     "execution_count": 51,
     "metadata": {},
     "output_type": "execute_result"
    }
   ],
   "source": [
    "\n",
    "spotCurveHandle2 = ql.YieldTermStructureHandle(myNewCurve) #use handle to manipulate the curve\n",
    "ql.CashFlows.npv(cflist,spotCurveHandle2,True,ql.Date(30, 12, 2019)) #the Cashflows Class will discount the list of \n",
    "#cash flows with \n"
   ]
  },
  {
   "cell_type": "markdown",
   "metadata": {},
   "source": [
    "## 1.2 Loop to create all BMA scenarios "
   ]
  },
  {
   "cell_type": "code",
   "execution_count": null,
   "metadata": {},
   "outputs": [],
   "source": []
  },
  {
   "cell_type": "code",
   "execution_count": 60,
   "metadata": {},
   "outputs": [
    {
     "data": {
      "text/html": [
       "<div>\n",
       "<style scoped>\n",
       "    .dataframe tbody tr th:only-of-type {\n",
       "        vertical-align: middle;\n",
       "    }\n",
       "\n",
       "    .dataframe tbody tr th {\n",
       "        vertical-align: top;\n",
       "    }\n",
       "\n",
       "    .dataframe thead th {\n",
       "        text-align: right;\n",
       "    }\n",
       "</style>\n",
       "<table border=\"1\" class=\"dataframe\">\n",
       "  <thead>\n",
       "    <tr style=\"text-align: right;\">\n",
       "      <th></th>\n",
       "      <th>base_scen</th>\n",
       "      <th>scen2</th>\n",
       "      <th>scen3</th>\n",
       "      <th>scen4</th>\n",
       "      <th>scen5</th>\n",
       "      <th>scen6</th>\n",
       "      <th>scen7</th>\n",
       "      <th>scen8</th>\n",
       "    </tr>\n",
       "    <tr>\n",
       "      <th>date</th>\n",
       "      <th></th>\n",
       "      <th></th>\n",
       "      <th></th>\n",
       "      <th></th>\n",
       "      <th></th>\n",
       "      <th></th>\n",
       "      <th></th>\n",
       "      <th></th>\n",
       "    </tr>\n",
       "  </thead>\n",
       "  <tbody>\n",
       "    <tr>\n",
       "      <th>September 30th, 2019</th>\n",
       "      <td>0.000002</td>\n",
       "      <td>0.000003</td>\n",
       "      <td>0.000002</td>\n",
       "      <td>0.000003</td>\n",
       "      <td>0.000001</td>\n",
       "      <td>0.000002</td>\n",
       "      <td>0.000003</td>\n",
       "      <td>0.000004</td>\n",
       "    </tr>\n",
       "    <tr>\n",
       "      <th>September 30th, 2020</th>\n",
       "      <td>0.024949</td>\n",
       "      <td>0.026450</td>\n",
       "      <td>0.021947</td>\n",
       "      <td>0.027951</td>\n",
       "      <td>0.010439</td>\n",
       "      <td>0.019445</td>\n",
       "      <td>0.030453</td>\n",
       "      <td>0.039460</td>\n",
       "    </tr>\n",
       "    <tr>\n",
       "      <th>September 30th, 2021</th>\n",
       "      <td>0.023625</td>\n",
       "      <td>0.025875</td>\n",
       "      <td>0.019122</td>\n",
       "      <td>0.028125</td>\n",
       "      <td>0.009370</td>\n",
       "      <td>0.017873</td>\n",
       "      <td>0.029377</td>\n",
       "      <td>0.037880</td>\n",
       "    </tr>\n",
       "    <tr>\n",
       "      <th>September 30th, 2022</th>\n",
       "      <td>0.022890</td>\n",
       "      <td>0.025890</td>\n",
       "      <td>0.016883</td>\n",
       "      <td>0.028890</td>\n",
       "      <td>0.008886</td>\n",
       "      <td>0.016888</td>\n",
       "      <td>0.028891</td>\n",
       "      <td>0.036893</td>\n",
       "    </tr>\n",
       "    <tr>\n",
       "      <th>September 29th, 2023</th>\n",
       "      <td>0.022692</td>\n",
       "      <td>0.026440</td>\n",
       "      <td>0.015188</td>\n",
       "      <td>0.030186</td>\n",
       "      <td>0.008939</td>\n",
       "      <td>0.016441</td>\n",
       "      <td>0.028943</td>\n",
       "      <td>0.036445</td>\n",
       "    </tr>\n",
       "  </tbody>\n",
       "</table>\n",
       "</div>"
      ],
      "text/plain": [
       "                      base_scen     scen2     scen3     scen4     scen5  \\\n",
       "date                                                                      \n",
       "September 30th, 2019   0.000002  0.000003  0.000002  0.000003  0.000001   \n",
       "September 30th, 2020   0.024949  0.026450  0.021947  0.027951  0.010439   \n",
       "September 30th, 2021   0.023625  0.025875  0.019122  0.028125  0.009370   \n",
       "September 30th, 2022   0.022890  0.025890  0.016883  0.028890  0.008886   \n",
       "September 29th, 2023   0.022692  0.026440  0.015188  0.030186  0.008939   \n",
       "\n",
       "                         scen6     scen7     scen8  \n",
       "date                                                \n",
       "September 30th, 2019  0.000002  0.000003  0.000004  \n",
       "September 30th, 2020  0.019445  0.030453  0.039460  \n",
       "September 30th, 2021  0.017873  0.029377  0.037880  \n",
       "September 30th, 2022  0.016888  0.028891  0.036893  \n",
       "September 29th, 2023  0.016441  0.028943  0.036445  "
      ]
     },
     "execution_count": 60,
     "metadata": {},
     "output_type": "execute_result"
    }
   ],
   "source": [
    "\n",
    "\n",
    "listScen=['scen2','scen3','scen4','scen5','scen6','scen7','scen8'] #select the list of scenarios you want to loop through\n",
    "datesX=list(spotT.dates())\n",
    "baseScen=bma.extract_info(spotT,datesX,todayDate,'base_scen')\n",
    "\n",
    "dfList=[]\n",
    "dfList.append(baseScen)\n",
    "for scen in listScen:\n",
    "    spreadT=deltas[scen]\n",
    "    #spotT=spotCurve\n",
    "    mynewCurve=bma.calibrate_term_structure(spotT,spreadT,todayDate)\n",
    "    datesX=list(spotT.dates())\n",
    "    test=bma.extract_info(mynewCurve,datesX,todayDate,scen)\n",
    "    dfList.append(test)\n",
    "\n",
    "#merge all into one\n",
    "dfs = [df.set_index('date') for df in dfList]\n",
    "finalDf=dfs[0].join(dfs[1:])    \n",
    "finalDf.head()\n",
    "\n"
   ]
  },
  {
   "cell_type": "markdown",
   "metadata": {},
   "source": [
    "## 1.3 Tests and verifications"
   ]
  },
  {
   "cell_type": "code",
   "execution_count": 10,
   "metadata": {},
   "outputs": [],
   "source": [
    "#to test that all time periods for the next 99 years are within 1 basis point of the target\n",
    "baseCurveHandle = ql.YieldTermStructureHandle(spotT)\n",
    "#spreads[22].setValue(-0.011828281330298842*0.995)\n",
    "#spotCurveHandle.forwardRate(ql.Date(30, 9, 2020),ql.Date(30, 9, 2021),ql.Thirty360(),ql.Compounded).rate()\n",
    "scenHandle=ql.YieldTermStructureHandle(mynewCurve)\n",
    "for year in range(1,99):\n",
    "    #date1=ql.Date(30, 9, 2019+year-1)\n",
    "    date1=TARGET().advance(todayDate,year-1,Years)\n",
    "    #date2=ql.Date(30, 9, 2019+year)\n",
    "    date2=datesX[year]\n",
    "    baseImpl=ql.ImpliedTermStructure(baseCurveHandle,date1)\n",
    "    scenImpl=ql.ImpliedTermStructure(scenHandle,date1)\n",
    "    a=baseImpl.zeroRate(1,ql.Compounded).rate()\n",
    "    \n",
    "    b=scenImpl.zeroRate(1,ql.Compounded).rate()\n",
    "    \n",
    "    assert abs(b-a-spreadT[min(year,35)])<0.001\n",
    "    "
   ]
  },
  {
   "cell_type": "markdown",
   "metadata": {},
   "source": [
    "# Below are other various basic methods for manipulating interest rate curves"
   ]
  },
  {
   "cell_type": "markdown",
   "metadata": {},
   "source": [
    "## 2.0 Obtaining forward rates from term structure of interest"
   ]
  },
  {
   "cell_type": "code",
   "execution_count": 11,
   "metadata": {},
   "outputs": [
    {
     "data": {
      "text/plain": [
       "0.02230038901066811"
      ]
     },
     "execution_count": 11,
     "metadata": {},
     "output_type": "execute_result"
    }
   ],
   "source": [
    "#the forwardRate function gives the future rates between 2 times periods\n",
    "\n",
    "spotCurveHandle = ql.YieldTermStructureHandle(spotT)\n",
    "spotCurveHandle.forwardRate(ql.Date(30, 9, 2020),ql.Date(30, 9, 2021),ql.ActualActual(),ql.Compounded).rate()"
   ]
  },
  {
   "cell_type": "markdown",
   "metadata": {},
   "source": [
    "## 3.0 implied term structure method"
   ]
  },
  {
   "cell_type": "code",
   "execution_count": 12,
   "metadata": {},
   "outputs": [
    {
     "data": {
      "text/plain": [
       "0.02230028720965982"
      ]
     },
     "execution_count": 12,
     "metadata": {},
     "output_type": "execute_result"
    }
   ],
   "source": [
    "#The implied term structure of interest at a given future point in time\n",
    "impl=ql.ImpliedTermStructure(spotCurveHandle,TARGET().advance(todayDate,1,Years))\n",
    "impl.zeroRate(1,ql.Compounded).rate()"
   ]
  },
  {
   "cell_type": "markdown",
   "metadata": {},
   "source": [
    "## 4.0 term structure with various spreads for KRD "
   ]
  },
  {
   "cell_type": "code",
   "execution_count": 13,
   "metadata": {},
   "outputs": [
    {
     "data": {
      "text/html": [
       "<div>\n",
       "<style scoped>\n",
       "    .dataframe tbody tr th:only-of-type {\n",
       "        vertical-align: middle;\n",
       "    }\n",
       "\n",
       "    .dataframe tbody tr th {\n",
       "        vertical-align: top;\n",
       "    }\n",
       "\n",
       "    .dataframe thead th {\n",
       "        text-align: right;\n",
       "    }\n",
       "</style>\n",
       "<table border=\"1\" class=\"dataframe\">\n",
       "  <thead>\n",
       "    <tr style=\"text-align: right;\">\n",
       "      <th></th>\n",
       "      <th>date</th>\n",
       "      <th>spot_rate</th>\n",
       "    </tr>\n",
       "  </thead>\n",
       "  <tbody>\n",
       "    <tr>\n",
       "      <th>0</th>\n",
       "      <td>September 30th, 2019</td>\n",
       "      <td>0.000002</td>\n",
       "    </tr>\n",
       "    <tr>\n",
       "      <th>1</th>\n",
       "      <td>September 30th, 2020</td>\n",
       "      <td>0.024949</td>\n",
       "    </tr>\n",
       "    <tr>\n",
       "      <th>2</th>\n",
       "      <td>September 30th, 2021</td>\n",
       "      <td>0.023625</td>\n",
       "    </tr>\n",
       "    <tr>\n",
       "      <th>3</th>\n",
       "      <td>September 30th, 2022</td>\n",
       "      <td>0.022890</td>\n",
       "    </tr>\n",
       "    <tr>\n",
       "      <th>4</th>\n",
       "      <td>September 29th, 2023</td>\n",
       "      <td>0.022692</td>\n",
       "    </tr>\n",
       "  </tbody>\n",
       "</table>\n",
       "</div>"
      ],
      "text/plain": [
       "                   date  spot_rate\n",
       "0  September 30th, 2019   0.000002\n",
       "1  September 30th, 2020   0.024949\n",
       "2  September 30th, 2021   0.023625\n",
       "3  September 30th, 2022   0.022890\n",
       "4  September 29th, 2023   0.022692"
      ]
     },
     "execution_count": 13,
     "metadata": {},
     "output_type": "execute_result"
    }
   ],
   "source": [
    "spreads = [ ql.SimpleQuote(0.0) for n in datesX ]\n",
    "base=bma.extract_info(spotT,datesX,todayDate)\n",
    "base.head()"
   ]
  },
  {
   "cell_type": "markdown",
   "metadata": {},
   "source": [
    "### 4.1: Test to show that adding 0 spreads equal the original term strucure "
   ]
  },
  {
   "cell_type": "code",
   "execution_count": 14,
   "metadata": {},
   "outputs": [
    {
     "data": {
      "text/plain": [
       "0.0"
      ]
     },
     "execution_count": 14,
     "metadata": {},
     "output_type": "execute_result"
    }
   ],
   "source": [
    "#implied forward curve from base\n",
    "yearsInFuture=0\n",
    "impl=ql.ImpliedTermStructure(spotCurveHandle,TARGET().advance(todayDate,yearsInFuture,Years))\n",
    "impl.zeroRate(1,ql.Compounded).rate()\n",
    "\n",
    "#spreads \n",
    "spreads = [ ql.SimpleQuote(0.0) for n in datesX ] # null spreads to begin\n",
    "ScenarioCurve = ql.SpreadedLinearZeroInterpolatedTermStructure(ql.YieldTermStructureHandle(spotT),[ql.QuoteHandle(q) for q in spreads],datesX)\n",
    "\n",
    "\n",
    "scenHandle=ql.YieldTermStructureHandle(ScenarioCurve)\n",
    "scenImpl=ql.ImpliedTermStructure(scenHandle,TARGET().advance(todayDate,yearsInFuture,Years))\n",
    "\n",
    "#cost function=\n",
    "scenImpl.zeroRate(1,ql.Compounded).rate()-impl.zeroRate(1,ql.Compounded).rate()"
   ]
  },
  {
   "cell_type": "markdown",
   "metadata": {},
   "source": [
    "## 5.0 discount as simple cash flow"
   ]
  },
  {
   "cell_type": "code",
   "execution_count": 16,
   "metadata": {},
   "outputs": [
    {
     "data": {
      "text/plain": [
       "1.0249667743731472"
      ]
     },
     "execution_count": 16,
     "metadata": {},
     "output_type": "execute_result"
    }
   ],
   "source": [
    "cf1=ql.SimpleCashFlow(1000,ql.Date(30, 9, 2020))\n",
    "cf2=ql.SimpleCashFlow(1000,ql.Date(30, 6, 2022))\n",
    "cf3=ql.SimpleCashFlow(1000,ql.Date(30, 6, 2023))\n",
    "cflist=[cf1,cf2,cf3]\n",
    "\n",
    "1/(cf1.amount()*spotCurveHandle.discount(cf1.date()))*1000"
   ]
  },
  {
   "cell_type": "markdown",
   "metadata": {},
   "source": [
    "### 5.1 discount multiple cash flows "
   ]
  },
  {
   "cell_type": "code",
   "execution_count": 21,
   "metadata": {},
   "outputs": [
    {
     "data": {
      "text/plain": [
       "2838.3939656443035"
      ]
     },
     "execution_count": 21,
     "metadata": {},
     "output_type": "execute_result"
    }
   ],
   "source": [
    "calc_date = Date(20, 6, 2019)\n",
    "risk_free_rate = 0.01\n",
    "\n",
    "ir=ql.InterestRate(0.04,intStruct.dayCount,intStruct.compounding,intStruct.compoundingFrequency)\n",
    "\n",
    "discount_curve = YieldTermStructureHandle(\n",
    "                    FlatForward(calc_date, risk_free_rate, ActualActual()))\n",
    "\n",
    "\n",
    "cfZ=ql.SimpleCashFlow(1,ql.Date(30, 9, 2020))\n",
    "ql.CashFlows.npv(cflist,spotCurveHandle,True,ql.Date(30, 12, 2019))\n",
    "#1/ql.CashFlows.npv([cfZ],ir,True,ql.Date(30, 9, 2019))"
   ]
  },
  {
   "cell_type": "markdown",
   "metadata": {},
   "source": [
    "## 6.0 Match according to spot rates"
   ]
  },
  {
   "cell_type": "code",
   "execution_count": 16,
   "metadata": {},
   "outputs": [
    {
     "data": {
      "text/plain": [
       "196.36363636363635"
      ]
     },
     "execution_count": 16,
     "metadata": {},
     "output_type": "execute_result"
    }
   ],
   "source": [
    "12/22*360"
   ]
  },
  {
   "cell_type": "code",
   "execution_count": null,
   "metadata": {},
   "outputs": [],
   "source": []
  }
 ],
 "metadata": {
  "kernelspec": {
   "display_name": "Python 3",
   "language": "python",
   "name": "python3"
  },
  "language_info": {
   "codemirror_mode": {
    "name": "ipython",
    "version": 3
   },
   "file_extension": ".py",
   "mimetype": "text/x-python",
   "name": "python",
   "nbconvert_exporter": "python",
   "pygments_lexer": "ipython3",
   "version": "3.7.3"
  }
 },
 "nbformat": 4,
 "nbformat_minor": 2
}
